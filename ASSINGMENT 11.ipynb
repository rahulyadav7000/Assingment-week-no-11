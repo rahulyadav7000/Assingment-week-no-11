{
 "cells": [
  {
   "cell_type": "markdown",
   "id": "39e5d3cf-54ec-4c34-a292-648a143079e0",
   "metadata": {},
   "source": [
    "1. What is the role of the 'else' block in a try-except statement? Provide an example scenario where it would be useful.\n",
    "\n",
    "ANSWER\n",
    "\n",
    "The else block in a try-except statement is used to define a code block that should be executed if no exceptions are raised in the try block. It's optional and provides a way to separate the code that might raise exceptions from the code that should run only if no exceptions occur."
   ]
  },
  {
   "cell_type": "code",
   "execution_count": 1,
   "id": "404b98b8-3eef-400a-be07-7a389ebbf400",
   "metadata": {},
   "outputs": [
    {
     "name": "stdin",
     "output_type": "stream",
     "text": [
      "Enter the numerator:  25\n",
      "Enter the denominator:  5\n"
     ]
    },
    {
     "name": "stdout",
     "output_type": "stream",
     "text": [
      "Result: 5.0\n"
     ]
    }
   ],
   "source": [
    "try:\n",
    "    numerator = float(input(\"Enter the numerator: \"))\n",
    "    denominator = float(input(\"Enter the denominator: \"))\n",
    "    result = numerator / denominator\n",
    "except ZeroDivisionError:\n",
    "    print(\"Error: Denominator cannot be zero.\")\n",
    "except ValueError:\n",
    "    print(\"Error: Please enter valid numeric values.\")\n",
    "else:\n",
    "    print(\"Result:\", result)"
   ]
  },
  {
   "cell_type": "markdown",
   "id": "74d18a90-4f61-462d-933c-a37febb1a1fc",
   "metadata": {},
   "source": [
    "2. Can a try-except block be nested inside another try-except block? Explain with an example.\n",
    "\n",
    "ANSWER\n",
    "\n",
    "Yes, a try-except block can indeed be nested inside another try-except block. This is known as nested exception handling and is used to handle different levels of exceptions with varying degrees of specificity."
   ]
  },
  {
   "cell_type": "code",
   "execution_count": 5,
   "id": "b13ac536-d314-4f50-b567-92c9b8e572e4",
   "metadata": {},
   "outputs": [
    {
     "name": "stdin",
     "output_type": "stream",
     "text": [
      "Enter an integer:  0\n"
     ]
    },
    {
     "name": "stdout",
     "output_type": "stream",
     "text": [
      "Error: Cannot divide by zero in the inner block.\n"
     ]
    }
   ],
   "source": [
    "try:\n",
    "    outer_number = int(input(\"Enter an integer: \"))\n",
    "    try:\n",
    "        result = 10 / outer_number\n",
    "    except ZeroDivisionError:\n",
    "        print(\"Error: Cannot divide by zero in the inner block.\")\n",
    "except ValueError:\n",
    "    print(\"Error: Please enter a valid integer in the outer block.\")"
   ]
  },
  {
   "cell_type": "markdown",
   "id": "3a6d7292-9b1a-4979-89f8-9edfecaa663d",
   "metadata": {},
   "source": [
    "3. How can you create a custom exception class in Python? Provide an example that demonstrates its usage.\n",
    "\n",
    "ANSWER\n",
    "\n",
    "you need to define a new class that inherits from the built-in Exception class or one of its subclasses. This allows you to define your own exception type with custom behavior and properties."
   ]
  },
  {
   "cell_type": "code",
   "execution_count": 8,
   "id": "6aa9db1b-64a7-4589-9129-9fba9a85b3fe",
   "metadata": {},
   "outputs": [
    {
     "name": "stdout",
     "output_type": "stream",
     "text": [
      "Custom Error: Division by zero is not allowed.\n"
     ]
    }
   ],
   "source": [
    "class CustomError(Exception):\n",
    "    def __init__(self, message):\n",
    "        self.message = message\n",
    "        super().__init__(self.message)\n",
    "\n",
    "def divide(a, b):\n",
    "    if b == 0:\n",
    "        raise CustomError(\"Division by zero is not allowed.\")\n",
    "    return a / b\n",
    "\n",
    "try:\n",
    "    result = divide(10, 0)\n",
    "except CustomError as ce:\n",
    "    print(\"Custom Error:\", ce.message)\n",
    "else:\n",
    "    print(\"Result:\", result)"
   ]
  },
  {
   "cell_type": "markdown",
   "id": "cb52399e-6ff3-4011-a418-45f1637c7b49",
   "metadata": {},
   "source": [
    "4. What are some common exceptions that are built-in to Python?\n",
    "\n",
    "ANSWER\n",
    "\n",
    "ZeroDivisionError : Raised when the second argument of a division or modulo operation is zero.\n",
    "\n",
    "TypeError         : Raised when an operation or function is applied to an object of inappropriate type.\n",
    "\n",
    "ValueError        : Raised when a built-in operation or function receives an argument that has the right type but an inappropriate value.\n",
    "\n",
    "IndexError        : Raised when a sequence subscript is out of range.\n",
    "\n",
    "KeyError          : Raised when a dictionary key is not found.\n",
    "\n",
    "FileNotFoundError : Raised when a file or directory is requested but doesn’t exist.\n",
    "\n",
    "IOError           : Raised when an I/O operation (such as a print statement, the built-in open() function or a method of a file object) fails for an I/O-related reason.\n",
    "\n",
    "ImportError       : Raised when an import statement fails to find the module definition or when a from ... import fails to find a name that is to be imported.\n",
    "\n",
    "MemoryError       : Raised when an operation runs out of memory.\n",
    "\n",
    "OverflowError     : Raised when the result of an arithmetic operation is too large to be expressed by the normal number format.\n",
    "\n",
    "AttributeError    : Raised when an attribute reference or assignment fails.\n",
    "\n",
    "SyntaxError       : Raised when the parser encounters a syntax error.\n",
    "\n",
    "IndentationError  : Raised when there is incorrect indentation.\n",
    "\n",
    "NameError         : Raised when a local or global name is not found."
   ]
  },
  {
   "cell_type": "markdown",
   "id": "7e076eaa-2856-48e6-9bc8-93710f709442",
   "metadata": {},
   "source": [
    "5. What is logging in Python, and why is it important in software development?\n",
    "\n",
    "ANSWER\n",
    "\n",
    ". Logging is a technique for monitoring events that take place when some software is in use.\n",
    ". For the creation, operation, and debugging of software, logging is crucial.\n",
    ". There are very little odds that you would find the source of the issue if your programme fails and you don't have any logging records.\n",
    ". Additionally, it will take a lot of time to identify the cause. "
   ]
  },
  {
   "cell_type": "markdown",
   "id": "e48c4b48-2799-4b0b-9464-e81b71a8dcd7",
   "metadata": {},
   "source": [
    "6. Explain the purpose of log levels in Python logging and provide examples of when each log level would be appropriate.\n",
    "\n",
    "ABSWER\n",
    "\n",
    "Log levels in Python logging define the severity or importance of log messages. They allow developers to control the granularity of the logged information, ensuring that only relevant information is recorded. Python's logging module defines several standard log levels:\n"
   ]
  },
  {
   "cell_type": "code",
   "execution_count": 9,
   "id": "36ee4cab-270f-4324-8499-75b4f9feeda6",
   "metadata": {},
   "outputs": [
    {
     "name": "stderr",
     "output_type": "stream",
     "text": [
      "DEBUG:root:Variables are 1 and 2\n"
     ]
    },
    {
     "data": {
      "text/plain": [
       "3"
      ]
     },
     "execution_count": 9,
     "metadata": {},
     "output_type": "execute_result"
    }
   ],
   "source": [
    "\"\"\"DEBUG  =  Lowest severity level. Used for detailed debugging information. These messages are meant for developers to understand the inner workings of the code. Example: Logging variable values for troubleshooting.\"\"\"\n",
    "\n",
    "import logging\n",
    "\n",
    "logging.basicConfig(level=logging.DEBUG)\n",
    "\n",
    "def add(x, y):\n",
    "    logging.debug('Variables are %s and %s', x, y)\n",
    "    return x + y\n",
    "\n",
    "add(1, 2)"
   ]
  },
  {
   "cell_type": "code",
   "execution_count": 10,
   "id": "d32e73b1-33ec-4a6b-a6be-92a2e13d713d",
   "metadata": {},
   "outputs": [
    {
     "name": "stderr",
     "output_type": "stream",
     "text": [
      "INFO:root:User Admin User logged in\n"
     ]
    }
   ],
   "source": [
    "\"\"\"INFO: Used to record general information about the program's execution. Typically used for tracking the flow of the application and key milestones. Example: Recording the start and end of a function.\"\"\"\n",
    "\n",
    "import logging\n",
    "\n",
    "logging.basicConfig(level=logging.INFO)\n",
    "\n",
    "def login(user):\n",
    "    logging.info('User %s logged in', user)\n",
    "\n",
    "login('Admin User')\n"
   ]
  },
  {
   "cell_type": "code",
   "execution_count": 11,
   "id": "ba86a702-8c84-467e-a53e-782703395aed",
   "metadata": {},
   "outputs": [
    {
     "name": "stderr",
     "output_type": "stream",
     "text": [
      "WARNING:root:Sorry you have Low balance: 10000\n"
     ]
    }
   ],
   "source": [
    "\"\"\"WARNING: Indicates a potential issue or unexpected behavior that does not prevent the program from running. It's used to highlight situations that might need attention. Example: Deprecation warnings or non-critical exceptions.\"\"\"\n",
    "\n",
    "import logging\n",
    "\n",
    "logging.basicConfig(level=logging.WARNING)\n",
    "\n",
    "def MyBalance(amount):\n",
    "    if amount < 40000:\n",
    "        logging.warning('Sorry you have Low balance: %s', amount)\n",
    "\n",
    "MyBalance(10000)\n",
    "\n"
   ]
  },
  {
   "cell_type": "code",
   "execution_count": 12,
   "id": "64bb738a-e9d1-48a0-8b45-a590f9d9215b",
   "metadata": {},
   "outputs": [
    {
     "name": "stderr",
     "output_type": "stream",
     "text": [
      "ERROR:root:You are trying to divide by zero, which is not allowed\n"
     ]
    }
   ],
   "source": [
    "\"\"\"ERROR: Used to log errors that prevented a particular operation from completing successfully. These messages indicate problems that should be addressed but do not necessarily halt the program's execution. Example: File not found or incorrect input.\"\"\"\n",
    "\n",
    "import logging\n",
    "\n",
    "logging.basicConfig(level=logging.ERROR)\n",
    "\n",
    "def LetUsDivide(n, d):\n",
    "    try:\n",
    "        result = n / d\n",
    "    except ZeroDivisionError:\n",
    "        logging.error('You are trying to divide by zero, which is not allowed')\n",
    "    else:\n",
    "        return result\n",
    "\n",
    "LetUsDivide(4, 0)\n"
   ]
  },
  {
   "cell_type": "code",
   "execution_count": 1,
   "id": "d40d4949-bd1f-456f-9ec8-20451ef42fd5",
   "metadata": {},
   "outputs": [
    {
     "name": "stderr",
     "output_type": "stream",
     "text": [
      "CRITICAL:root:System failure: You need to handle the issue now\n"
     ]
    }
   ],
   "source": [
    "\"\"\"CRITICAL: Highest severity level. Indicates a severe error that may cause the program to crash or behave unpredictably. These messages are used for situations requiring immediate attention. Example: Unrecoverable errors or system crashes.\"\"\"\n",
    "\n",
    "import logging\n",
    "\n",
    "logging.basicConfig(level=logging.CRITICAL)\n",
    "\n",
    "def LetUsCheckSystem(sys):\n",
    "    if sys != 'OK':\n",
    "        logging.critical('System failure: %s', sys)\n",
    "\n",
    "LetUsCheckSystem('You need to handle the issue now')\n"
   ]
  },
  {
   "cell_type": "markdown",
   "id": "de555523-b6f3-45d0-9381-8a43b9fcd440",
   "metadata": {},
   "source": [
    "7. What are log formatters in Python logging, and how can you customise the log message format using formatters?\n",
    "\n",
    "ANSWER\n",
    "\n",
    "Log formatters in Python logging are objects used to control the appearance and structure of log messages. They determine how the information in a log record, such as the timestamp, log level, and message, is formatted before it is output to the specified log handlers\n",
    "\n",
    "you can customise the log message format with this example:"
   ]
  },
  {
   "cell_type": "code",
   "execution_count": 8,
   "id": "10c7a539-3bfd-4a8a-b8af-6585aeb0d29c",
   "metadata": {},
   "outputs": [
    {
     "name": "stderr",
     "output_type": "stream",
     "text": [
      "2023-08-13 13:33:50,000 - DEBUG - This is a debug message.\n",
      "2023-08-13 13:33:50,002 - INFO - This is an info message.\n",
      "2023-08-13 13:33:50,004 - WARNING - This is a warning message.\n"
     ]
    }
   ],
   "source": [
    "import logging\n",
    "\n",
    "# Create a custom log formatter\n",
    "formatter = logging.Formatter('%(asctime)s - %(levelname)s - %(message)s')\n",
    "\n",
    "# Create a log handler (console handler)\n",
    "console_handler = logging.StreamHandler()\n",
    "console_handler.setFormatter(formatter)\n",
    "\n",
    "# Create a logger and add the handler\n",
    "logger = logging.getLogger('custom_logger')\n",
    "logger.addHandler(console_handler)\n",
    "logger.setLevel(logging.DEBUG)\n",
    "\n",
    "# Log messages using the custom format\n",
    "logger.debug(\"This is a debug message.\")\n",
    "logger.info(\"This is an info message.\")\n",
    "logger.warning(\"This is a warning message.\")"
   ]
  },
  {
   "cell_type": "markdown",
   "id": "a7672732-1a26-4249-89ef-8f309f5bf066",
   "metadata": {},
   "source": [
    "8. How can you set up logging to capture log messages from multiple modules or classes in a Python application?\n",
    "\n",
    "ANSWER\n",
    "\n",
    "Setting up logging to capture log messages from multiple modules or classes in a Python application involves configuring a shared logger and setting appropriate log levels for each module or class. "
   ]
  },
  {
   "cell_type": "code",
   "execution_count": 2,
   "id": "abf8bc16-0b48-46ee-83c8-cd6e59a21e06",
   "metadata": {},
   "outputs": [],
   "source": [
    "import logging\n",
    "\n",
    "logging.basicConfig(level=logging.DEBUG,\n",
    "                    format='%(asctime)s - %(name)s - %(levelname)s - %(message)s')\n"
   ]
  },
  {
   "cell_type": "code",
   "execution_count": 3,
   "id": "fd559050-7f0a-49d1-b5d8-b8806aa0be99",
   "metadata": {},
   "outputs": [],
   "source": [
    "# In module1.py\n",
    "import logging\n",
    "logger = logging.getLogger(__name__)\n",
    "\n",
    "def some_function():\n",
    "    logger.debug(\"Debug message from module1\")\n",
    "\n",
    "# In module2.py\n",
    "import logging\n",
    "logger = logging.getLogger(__name__)\n",
    "\n",
    "def another_function():\n",
    "    logger.info(\"Info message from module2\")"
   ]
  },
  {
   "cell_type": "markdown",
   "id": "527f6a3c-2bb0-41c4-9481-53d25c8243be",
   "metadata": {},
   "source": [
    "9. What is the difference between the logging and print statements in Python? When should you use logging over print statements in a real-world application?\n",
    "\n",
    "ANSWER\n",
    "\n",
    "Differences between logging and print statements:\n",
    "\n",
    ". Destination:\n",
    "print: Outputs messages to the standard output (usually the console).\n",
    "logging: Offers flexibility to output messages to various destinations, such as files, the console, or external logging services.\n",
    "\n",
    ". Levels and Severity:\n",
    "print: Doesn't provide a built-in way to differentiate between different levels of messages or their severity.\n",
    "logging: Supports different log levels (DEBUG, INFO, WARNING, ERROR, CRITICAL) to categorize and prioritize messages based on their significance.\n",
    "\n",
    ". Granularity:\n",
    "print: Often used for quick debugging or inspecting values in development but lacks proper organization for logging purposes.\n",
    "logging: Designed for more structured and organized logging across the entire application. Provides detailed control over what information is captured and where.\n",
    "\n",
    ". Customization:\n",
    "print: Limited customization of the displayed content or format.\n",
    "logging: Allows customizable formatting, timestamping, and inclusion of contextual information in log messages.\n",
    "\n",
    "When to use logging over print statements:\n",
    "    \n",
    "In a real-world application, using logging over print statements offers several benefits:\n",
    "Structured Logging: Logging provides a standardized way to record messages, allowing for better organization and categorization of information.\n",
    "\n",
    ". Granular Control: You can control the level of detail captured by setting appropriate log levels. This is especially useful when dealing with different environments (development, testing, production).\n",
    "\n",
    ". Avoid Polluting Output: Logging ensures that debugging and information messages don't clutter the application's normal output, which can be crucial in production environments.\n",
    "\n",
    ". Long-Term Maintainability: Well-structured logging helps in maintaining and debugging an application over time. It provides a historical record of events.\n",
    "\n",
    ". Flexibility: Logging can output to various destinations, including files, databases, and external logging services, allowing for centralized log management.\n",
    "\n",
    ". Debugging in Production: In production environments where console access is limited, logging remains accessible and can provide insights into application behavior without needing direct access to the running instance.\n"
   ]
  },
  {
   "cell_type": "markdown",
   "id": "f972eefc-ffd3-4593-8674-320aa3064db3",
   "metadata": {},
   "source": [
    "10. Write a Python program that logs a message to a file named \"app.log\" with the\n",
    "following requirements:\n",
    "● The log message should be \"Hello, World!\"\n",
    "● The log level should be set to \"INFO.\"\n",
    "● The log file should append new log entries without overwriting previous ones.\n",
    "\n",
    "ANSWER\n"
   ]
  },
  {
   "cell_type": "code",
   "execution_count": 10,
   "id": "40bb0eb7-6bd7-4497-9f12-f6370c289fe2",
   "metadata": {},
   "outputs": [],
   "source": [
    "import logging\n",
    "\n",
    "# Configure the logging\n",
    "logging.basicConfig(filename='app.log', level=logging.INFO,\n",
    "                    format='%(asctime)s - %(levelname)s - %(message)s')\n",
    "\n",
    "# Log the message\n",
    "logging.info(\"Hello, World!\")"
   ]
  },
  {
   "cell_type": "markdown",
   "id": "180653c6-5844-40ae-ba02-f86551b14ce8",
   "metadata": {},
   "source": [
    "11. Create a Python program that logs an error message to the console and a file named \"errors.log\" if an exception occurs during the program's execution. The error message should include the exception type and a timestamp.\n",
    "\n",
    "ANSWER\n",
    "\n"
   ]
  },
  {
   "cell_type": "code",
   "execution_count": 3,
   "id": "518025d7-60cf-456d-bee2-e88608308bbb",
   "metadata": {},
   "outputs": [],
   "source": [
    "import logging\n",
    "import sys\n",
    "from datetime import datetime\n",
    "\n",
    "# Configure logging\n",
    "logging.basicConfig(filename='errors.log', level=logging.ERROR,\n",
    "                    format='%(asctime)s [%(levelname)s]: %(message)s')\n",
    "\n",
    "# Create a function to handle exceptions and log them\n",
    "def log_exception(ex_type, ex_value, ex_traceback):\n",
    "    timestamp = datetime.now().strftime(\"%Y-%m-%d %H:%M:%S\")\n",
    "    error_message = f\"Exception Type: {ex_type.__name__}, Timestamp: {timestamp}\\n\"\n",
    "    error_message += f\"{ex_value}\\n\"\n",
    "    logging.error(error_message)\n",
    "\n",
    "# Register the exception handler\n",
    "sys.excepthook = log_exception\n",
    "\n",
    "# Sample code that raises an exception\n",
    "def divide_by_zero():\n",
    "    return 1 / 0\n",
    "\n",
    "if __name__ == \"__main__\":\n",
    "    try:\n",
    "        divide_by_zero()\n",
    "    except Exception as e:\n",
    "        pass  # Exception will be caught and logged by the custom exception handler"
   ]
  },
  {
   "cell_type": "code",
   "execution_count": null,
   "id": "0ba81f1b-b58a-4890-8990-7e49bf867baa",
   "metadata": {},
   "outputs": [],
   "source": []
  },
  {
   "cell_type": "code",
   "execution_count": null,
   "id": "2423e29e-ce3e-4ff4-acfa-e28e2ba522bc",
   "metadata": {},
   "outputs": [],
   "source": []
  }
 ],
 "metadata": {
  "kernelspec": {
   "display_name": "Python 3 (ipykernel)",
   "language": "python",
   "name": "python3"
  },
  "language_info": {
   "codemirror_mode": {
    "name": "ipython",
    "version": 3
   },
   "file_extension": ".py",
   "mimetype": "text/x-python",
   "name": "python",
   "nbconvert_exporter": "python",
   "pygments_lexer": "ipython3",
   "version": "3.10.6"
  }
 },
 "nbformat": 4,
 "nbformat_minor": 5
}
